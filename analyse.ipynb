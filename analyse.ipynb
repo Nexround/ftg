{
 "cells": [
  {
   "cell_type": "code",
   "execution_count": 22,
   "metadata": {
    "tags": [
     "parameters"
    ]
   },
   "outputs": [],
   "source": [
    "import matplotlib.pyplot as plt\n",
    "\n",
    "plt.rcParams[\"figure.figsize\"] = [5, 4]\n",
    "plt.rcParams[\"figure.dpi\"] = 120"
   ]
  },
  {
   "cell_type": "code",
   "execution_count": null,
   "metadata": {},
   "outputs": [],
   "source": [
    "import matplotlib.pyplot as plt\n",
    "\n",
    "\n",
    "def scatter_plot(counter_obj, highlight_duplicates=None):\n",
    "    x = [key[0] for key in counter_obj.keys()]\n",
    "    y = [key[1] for key in counter_obj.keys()]\n",
    "    sizes = [value * 0.1 for value in counter_obj.values()]  # 调整点大小以反映计数\n",
    "\n",
    "    plt.scatter(\n",
    "        x, y, s=sizes, alpha=0.6, color=\"skyblue\", edgecolor=\"black\", label=\"All Points\"\n",
    "    )\n",
    "\n",
    "    # Highlight duplicate points if provided\n",
    "    if highlight_duplicates:\n",
    "        dup_x = [key[0] for key in highlight_duplicates]\n",
    "        dup_y = [key[1] for key in highlight_duplicates]\n",
    "        plt.scatter(dup_x, dup_y, s=1, alpha=0.9, color=\"red\", label=\"Duplicates\")\n",
    "\n",
    "    plt.xlabel(\"X values\")\n",
    "    plt.ylabel(\"Y values\")\n",
    "    plt.title(\"Scatter plot of (x, y) counts\")\n",
    "    plt.legend()\n",
    "    plt.show()"
   ]
  },
  {
   "cell_type": "code",
   "execution_count": null,
   "metadata": {},
   "outputs": [],
   "source": [
    "import json\n",
    "from collections import Counter\n",
    "# from src.module.func import scatter_plot, plot_points\n",
    "\n",
    "# 在 Jupyter 中交互式输入文件路径\n",
    "file_path = \"/root/ftg/results/tokencls_agnews_on_imdb.json\"\n",
    "j2 = \"/root/ftg/results/tokencls_agnews.json\"\n",
    "# j1 = input(\"请输入第一个 JSONL 文件的路径: \")\n",
    "# j2 = input(\"请输入第二个 JSONL 文件的路径: \")\n",
    "import matplotlib.pyplot as plt\n",
    "\n",
    "plt.rcParams[\"figure.figsize\"] = [12, 8]\n",
    "plt.rcParams[\"figure.dpi\"] = 200\n",
    "\n",
    "def extract_coordinates(jsonl_file):\n",
    "    \"\"\"Extract coordinates from a JSONL file.\"\"\"\n",
    "    data = []\n",
    "    with open(jsonl_file, \"r\", encoding=\"utf-8\") as f:\n",
    "        result = json.load(f)\n",
    "        for line in result:\n",
    "            data.append(line[0])  # Parse each JSON line\n",
    "\n",
    "    # Extract coordinates\n",
    "    coordinates = []\n",
    "    for entry in data:\n",
    "        coordinates.extend([(item[0], item[1]) for item in entry[\"ig_gold\"]])\n",
    "    return coordinates\n",
    "\n",
    "\n",
    "def filter_counter(counter_obj):\n",
    "    # 计算平均值\n",
    "    mean_value = int(sum(counter_obj.values()) / len(counter_obj))\n",
    "    threshold = int(mean_value * 0)\n",
    "    # threshold = int(mean_value * 0.1)\n",
    "    # 过滤元素\n",
    "    filtered_counter = {\n",
    "        key: value for key, value in counter_obj.items() if value >= threshold\n",
    "    }\n",
    "\n",
    "    return filtered_counter\n",
    "\n",
    "\n",
    "import matplotlib.pyplot as plt\n",
    "\n",
    "\n",
    "def scatter_plot(counter_obj, highlight_duplicates=None):\n",
    "    x = [key[0] for key in counter_obj.keys()]\n",
    "    y = [key[1] for key in counter_obj.keys()]\n",
    "    sizes = [value * 0.1 for value in counter_obj.values()]  # 调整点大小以反映计数\n",
    "\n",
    "    plt.scatter(\n",
    "        x, y, s=sizes, alpha=0.6, color=\"skyblue\", edgecolor=\"black\", label=\"All Points\"\n",
    "    )\n",
    "\n",
    "    # Highlight duplicate points if provided\n",
    "    if highlight_duplicates:\n",
    "        dup_x = [key[0] for key in highlight_duplicates]\n",
    "        dup_y = [key[1] for key in highlight_duplicates]\n",
    "        plt.scatter(dup_x, dup_y, s=1, alpha=0.9, color=\"red\", label=\"Duplicates\")\n",
    "\n",
    "    plt.xlabel(\"X values\")\n",
    "    plt.ylabel(\"Y values\")\n",
    "    plt.title(\"Scatter plot of (x, y) counts\")\n",
    "    plt.legend()\n",
    "    plt.show()\n",
    "\n",
    "\n",
    "# Extract coordinates from both files\n",
    "coordinates_file1 = extract_coordinates(file_path)\n",
    "coordinates_file2 = extract_coordinates(j2)\n",
    "\n",
    "# Count occurrences in both files\n",
    "counter_file1 = Counter(coordinates_file1)\n",
    "counter_file2 = Counter(coordinates_file2)\n",
    "# counter_file1 = filter_counter(counter_file1)\n",
    "counter_file2 = filter_counter(counter_file2)\n",
    "scatter_plot(counter_file1)\n",
    "scatter_plot(counter_file2)\n",
    "\n",
    "# Find duplicates between the two files\n",
    "total_coordinates_combined = set(counter_file1) | set(counter_file2)\n",
    "duplicate_coordinates = set(counter_file1) & set(counter_file2)\n",
    "complement_1 = set(counter_file1) - set(counter_file2)\n",
    "complement_coord = set(counter_file2) - set(counter_file1)\n",
    "\n",
    "duplicate_count = len(duplicate_coordinates)\n",
    "\n",
    "total_coordinates_file1 = len(set(counter_file1))\n",
    "total_coordinates_file2 = len(set(counter_file2))\n",
    "total_coordinates_combined = len(total_coordinates_combined)\n",
    "total_complement_1 = len(complement_1)\n",
    "total_complement_2 = len(complement_coord)\n",
    "\n",
    "# Calculate duplicate ratios\n",
    "duplicate_ratio_file1 = (\n",
    "    duplicate_count / total_coordinates_file1 if total_coordinates_file1 > 0 else 0\n",
    ")\n",
    "duplicate_ratio_file2 = (\n",
    "    duplicate_count / total_coordinates_file2 if total_coordinates_file2 > 0 else 0\n",
    ")\n",
    "duplicate_ratio_combined = (\n",
    "    duplicate_count / total_coordinates_combined\n",
    "    if total_coordinates_combined > 0\n",
    "    else 0\n",
    ")\n",
    "# 绘制带有重复点标记的散点图\n",
    "\n",
    "scatter_plot(counter_file1, highlight_duplicates=duplicate_coordinates)\n",
    "scatter_plot(counter_file2, highlight_duplicates=duplicate_coordinates)\n",
    "scatter_plot(counter_file1, highlight_duplicates=complement_1)\n",
    "scatter_plot(counter_file2, highlight_duplicates=complement_coord)\n",
    "# 将集合转换为列表，因为 JSON 不支持集合\n",
    "complement_1_list = list(complement_1)\n",
    "complement_2_list = list(complement_coord)\n",
    "\n",
    "# 写入 JSON 文件\n",
    "with open(\"complement_1.json\", \"w\", encoding=\"utf-8\") as f:\n",
    "    json.dump(complement_1_list, f, ensure_ascii=False, indent=4)\n",
    "# 写入 JSON 文件\n",
    "with open(\"complement_2.json\", \"w\", encoding=\"utf-8\") as f:\n",
    "    json.dump(complement_2_list, f, ensure_ascii=False, indent=4)\n",
    "\n",
    "print(\"写入完成！\")\n",
    "\n",
    "# Print results\n",
    "print(f\"Total coordinates in file 1: {total_coordinates_file1}\")\n",
    "print(f\"Total coordinates in file 2: {total_coordinates_file2}\")\n",
    "print(f\"Duplicate coordinates between files: {duplicate_count}\")\n",
    "print(f\"Difference coordinates_1: {total_complement_1}\")\n",
    "print(f\"Difference coordinates_2: {total_complement_2}\")\n",
    "print(f\"Ratio of duplicates (file 1): {duplicate_ratio_file1:.2%}\")\n",
    "print(f\"Ratio of duplicates (file 2): {duplicate_ratio_file2:.2%}\")\n",
    "print(f\"Ratio of duplicates (combined): {duplicate_ratio_combined:.2%}\")"
   ]
  },
  {
   "cell_type": "code",
   "execution_count": null,
   "metadata": {},
   "outputs": [],
   "source": [
    "import json\n",
    "from collections import Counter\n",
    "import random\n",
    "import jsonlines\n",
    "\n",
    "# 读取 JSONL 文件\n",
    "file_path = \"/workspace/ftg/target_neurons/lm_mmlu.json\"\n",
    "\n",
    "# with jsonlines.open(file_path, mode=\"r\") as reader:\n",
    "#     for obj in reader:\n",
    "#         print(obj)  # 每个 obj 是一个字典\n",
    "\n",
    "random.seed(42)\n",
    "# from src.module.func import scatter_plot, plot_points\n",
    "\n",
    "# 在 Jupyter 中交互式输入文件路径\n",
    "\n",
    "save_dir = \"./target_neurons\"\n",
    "# j1 = input(\"请输入第一个 JSONL 文件的路径: \")\n",
    "# j2 = input(\"请输入第二个 JSONL 文件的路径: \")\n",
    "import matplotlib.pyplot as plt\n",
    "\n",
    "plt.rcParams[\"figure.figsize\"] = [12, 8]\n",
    "plt.rcParams[\"figure.dpi\"] = 120\n",
    "full_coord = set((x, y) for x in range(0, 24) for y in range(0, 896))\n",
    "print(f\"坐标总数: {len(full_coord)}\")\n",
    "\n",
    "def extract_coordinates(jsonl_file):\n",
    "    \"\"\"Extract coordinates from a JSONL file.\"\"\"\n",
    "    data = []\n",
    "    with jsonlines.open(jsonl_file, mode=\"r\") as reader:\n",
    "        for line in reader:\n",
    "            data.append(line)  # Parse each JSON line\n",
    "\n",
    "    # Extract coordinates\n",
    "    coordinates = []\n",
    "    for entry in data:\n",
    "        coordinates.extend([(item[0], item[1]) for item in entry[\"mvp\"]])\n",
    "    return coordinates\n",
    "\n",
    "\n",
    "def filter_counter(counter_obj):\n",
    "    # 计算平均值\n",
    "    mean_value = int(sum(counter_obj.values()) / len(counter_obj))\n",
    "    threshold = int(mean_value * 1)\n",
    "    # threshold = int(mean_value * 0.1)\n",
    "    # 过滤元素\n",
    "    filtered_counter = {\n",
    "        key: value for key, value in counter_obj.items() if value >= threshold\n",
    "    }\n",
    "\n",
    "    return filtered_counter\n",
    "\n",
    "\n",
    "def scatter_plot(counter_obj, highlight_duplicates=None):\n",
    "    x = [key[0] for key in counter_obj.keys()]\n",
    "    y = [key[1] for key in counter_obj.keys()]\n",
    "    sizes = [value * 0.1 for value in counter_obj.values()]  # 调整点大小以反映计数\n",
    "\n",
    "    plt.scatter(\n",
    "        x, y, s=sizes, alpha=0.6, color=\"skyblue\", edgecolor=\"black\", label=\"All Points\"\n",
    "    )\n",
    "\n",
    "    # Highlight duplicate points if provided\n",
    "    if highlight_duplicates:\n",
    "        dup_x = [key[0] for key in highlight_duplicates]\n",
    "        dup_y = [key[1] for key in highlight_duplicates]\n",
    "        plt.scatter(dup_x, dup_y, s=1, alpha=0.9, color=\"red\", label=\"Duplicates\")\n",
    "\n",
    "    plt.xlabel(\"X values\")\n",
    "    plt.ylabel(\"Y values\")\n",
    "    plt.title(\"Scatter plot of (x, y) counts\")\n",
    "    plt.legend()\n",
    "    plt.show()\n",
    "\n",
    "\n",
    "# Extract coordinates from both files\n",
    "coordinates_file1 = extract_coordinates(file_path)\n",
    "unique_coord = set(coordinates_file1)\n",
    "# Count occurrences in both files\n",
    "all_coord_counter = Counter(coordinates_file1)\n",
    "# 获取Counter中的所有键\n",
    "\n",
    "print(f\"去重高贡献坐标总数: {len(unique_coord)}\")\n",
    "\n",
    "# counter_file1 = filter_counter(counter_file1)\n",
    "# print(len(counter_file1))\n",
    "complement_coord = full_coord - unique_coord\n",
    "keys = list(complement_coord)\n",
    "\n",
    "# # 计算要抽取的元素数量，10%的元素\n",
    "# RATIO = 10\n",
    "# sample_size = max(1, int(len(keys) // RATIO))\n",
    "\n",
    "# # 随机抽取10%的元素\n",
    "# sampled_keys = random.sample(keys, sample_size)\n",
    "print(f\"非高贡献坐标总数: {len(complement_coord)}\")\n",
    "# print(len(sampled_keys))\n",
    "\n",
    "# 24* 4864 = 116736\n",
    "# counter_file2 = filter_counter(counter_file2)\n",
    "scatter_plot(all_coord_counter)\n",
    "# scatter_plot(Counter(sampled_keys))\n",
    "counter_file1_list = list(all_coord_counter)\n",
    "with open(f\"{save_dir}/complement_1.json\", \"w\", encoding=\"utf-8\") as f:\n",
    "    json.dump(counter_file1_list, f, ensure_ascii=False, indent=4)\n",
    "# with open(f\"{save_dir}/random_RATIO{RATIO}.json\", \"w\", encoding=\"utf-8\") as f:\n",
    "#     json.dump(sampled_keys, f, ensure_ascii=False, indent=4)"
   ]
  },
  {
   "cell_type": "markdown",
   "metadata": {},
   "source": [
    "# 随机神经元位置生成"
   ]
  },
  {
   "cell_type": "code",
   "execution_count": null,
   "metadata": {},
   "outputs": [],
   "source": [
    "import json\n",
    "import random\n",
    "\n",
    "num_layer = 24\n",
    "num_neuron = 10\n",
    "\n",
    "# 生成包含随机整数的列表\n",
    "random_data = [random.sample(range(896), num_neuron) for _ in range(num_layer)]\n",
    "\n",
    "# 将数据写入 JSON 文件\n",
    "with open(\"random_neurons.json\", \"w\", encoding=\"utf-8\") as f:\n",
    "    json.dump(random_data, f, ensure_ascii=False, indent=4)\n",
    "\n",
    "print(\"JSON 文件已生成！\")"
   ]
  },
  {
   "cell_type": "code",
   "execution_count": null,
   "metadata": {},
   "outputs": [],
   "source": [
    "import json\n",
    "import ast\n",
    "\n",
    "new_ig_dict = {}\n",
    "\n",
    "with open(\"/workspace/ftg/target_neurons/top90_mmlu.json\", encoding=\"utf-8\") as f:\n",
    "    ig_dict = json.load(f)\n",
    "for key, value in ig_dict.items():\n",
    "    new_ig_dict[ast.literal_eval(key)] = value\n",
    "new_ig_dict = dict(sorted(new_ig_dict.items(), key=lambda item: item[1]))\n",
    "total_elements = len(new_ig_dict)\n",
    "top_10_percent = int(total_elements * 0.1)\n",
    "top_10_percent_dict = dict(tuple(new_ig_dict.items())[:top_10_percent])\n",
    "\n",
    "print(top_10_percent_dict)\n"
   ]
  },
  {
   "cell_type": "markdown",
   "metadata": {},
   "source": [
    "# 可视化神经元位置"
   ]
  },
  {
   "cell_type": "code",
   "execution_count": 23,
   "metadata": {},
   "outputs": [
    {
     "data": {
      "image/png": "[encoded data removed]",
      "text/plain": [
       "<Figure size 600x480 with 1 Axes>"
      ]
     },
     "metadata": {},
     "output_type": "display_data"
    },
    {
     "name": "stdout",
     "output_type": "stream",
     "text": [
      "2150\n"
     ]
    }
   ],
   "source": [
    "scatter_plot(top_10_percent_dict)\n",
    "print(len(top_10_percent_dict))"
   ]
  },
  {
   "cell_type": "code",
   "execution_count": null,
   "metadata": {},
   "outputs": [],
   "source": [
    "target_neurons_list = [pos for pos in top_10_percent_dict.keys()]\n",
    "print(target_neurons_list)\n",
    "file_name = \"mmlu_10percent.json\"\n",
    "with open(f\"./target_neurons/{file_name}\", \"w\", encoding=\"utf-8\") as f:\n",
    "    json.dump(target_neurons_list, f, ensure_ascii=False, indent=4)\n"
   ]
  },
  {
   "cell_type": "markdown",
   "metadata": {},
   "source": [
    "# 合并神经元"
   ]
  },
  {
   "cell_type": "code",
   "execution_count": null,
   "metadata": {},
   "outputs": [],
   "source": [
    "import json\n",
    "\n",
    "def merge_and_sum_dicts(file1, file2):\n",
    "    # 读取第一个 JSON 文件\n",
    "    with open(file1, 'r') as f1:\n",
    "        dict1 = json.load(f1)\n",
    "    \n",
    "    # 读取第二个 JSON 文件\n",
    "    with open(file2, 'r') as f2:\n",
    "        dict2 = json.load(f2)\n",
    "    \n",
    "    # 创建一个新的字典来存储相加后的值\n",
    "    result = {}\n",
    "    \n",
    "    # 遍历第一个字典的键\n",
    "    for key in dict1:\n",
    "        if key in dict2:\n",
    "            # 如果键在两个字典中都存在，将值相加\n",
    "            result[key] = dict1[key] + dict2[key]\n",
    "        else:\n",
    "            # 如果键只在第一个字典中存在，直接添加到结果中\n",
    "            result[key] = dict1[key]\n",
    "    \n",
    "    # 遍历第二个字典的键，处理只在第二个字典中存在的键\n",
    "    for key in dict2:\n",
    "        if key not in dict1:\n",
    "            result[key] = dict2[key]\n",
    "    \n",
    "    return result\n",
    "\n",
    "# 示例用法\n",
    "file1 = '/workspace/ftg/test/ll_merged.json'\n",
    "file2 = '/workspace/ftg/test/lm_mmlu.json'\n",
    "result_dict = merge_and_sum_dicts(file1, file2)\n",
    "print(result_dict)\n",
    "with open(\"merged.json\", \"w\", encoding=\"utf-8\") as f:\n",
    "    json.dump(result_dict, f, ensure_ascii=False, indent=4)"
   ]
  },
  {
   "cell_type": "code",
   "execution_count": null,
   "metadata": {},
   "outputs": [
    {
     "name": "stdout",
     "output_type": "stream",
     "text": [
      "(8497, 24, 896)\n",
      "[[ 1.6250610e-03  2.4261475e-03  2.9945374e-04 ...  2.0599365e-03\n",
      "  -1.1672974e-03  1.8692017e-03]\n",
      " [ 2.4414062e-04 -2.6583672e-05 -3.6621094e-04 ...  1.0967255e-04\n",
      "   9.5748901e-04  2.2172928e-05]\n",
      " [-1.2359619e-03  2.2888184e-03  2.0904541e-03 ...  1.2283325e-03\n",
      "  -5.9604645e-06 -3.1661987e-04]\n",
      " ...\n",
      " [ 7.0190430e-04  2.2125244e-04  1.8477440e-05 ...  3.3378601e-04\n",
      "   4.2152405e-04 -1.5354156e-04]\n",
      " [ 1.3198853e-03 -2.3269653e-04 -2.1457672e-05 ... -1.2588501e-03\n",
      "   9.3078613e-04  3.7384033e-03]\n",
      " [ 9.1552734e-04 -3.8757324e-03 -4.2533875e-04 ... -2.5868416e-05\n",
      "   4.0588379e-03  3.3874512e-03]]\n"
     ]
    }
   ],
   "source": [
    "import h5py\n",
    "filename = \"/workspace/ftg/hdf5/mmlu.h5\"\n",
    "with h5py.File(filename, \"a\") as f:\n",
    "    print(f[\"dataset\"].shape)"
   ]
  },
  {
   "cell_type": "code",
   "execution_count": 5,
   "metadata": {},
   "outputs": [
    {
     "name": "stderr",
     "output_type": "stream",
     "text": [
      "  2%|▏         | 1/57 [00:08<08:18,  8.91s/it]"
     ]
    },
    {
     "name": "stdout",
     "output_type": "stream",
     "text": [
      "144\n",
      "college_biology\n"
     ]
    },
    {
     "name": "stderr",
     "output_type": "stream",
     "text": [
      "  4%|▎         | 2/57 [00:19<08:49,  9.63s/it]"
     ]
    },
    {
     "name": "stdout",
     "output_type": "stream",
     "text": [
      "244\n",
      "college_chemistry\n"
     ]
    },
    {
     "name": "stderr",
     "output_type": "stream",
     "text": [
      "  5%|▌         | 3/57 [00:28<08:29,  9.44s/it]"
     ]
    },
    {
     "name": "stdout",
     "output_type": "stream",
     "text": [
      "344\n",
      "college_computer_science\n"
     ]
    },
    {
     "name": "stderr",
     "output_type": "stream",
     "text": [
      "  7%|▋         | 4/57 [00:38<08:30,  9.63s/it]"
     ]
    },
    {
     "name": "stdout",
     "output_type": "stream",
     "text": [
      "444\n",
      "college_mathematics\n"
     ]
    },
    {
     "name": "stderr",
     "output_type": "stream",
     "text": [
      "  9%|▉         | 5/57 [00:46<07:55,  9.15s/it]"
     ]
    },
    {
     "name": "stdout",
     "output_type": "stream",
     "text": [
      "546\n",
      "college_physics\n"
     ]
    },
    {
     "name": "stderr",
     "output_type": "stream",
     "text": [
      " 11%|█         | 6/57 [00:54<07:33,  8.89s/it]"
     ]
    },
    {
     "name": "stdout",
     "output_type": "stream",
     "text": [
      "691\n",
      "electrical_engineering\n"
     ]
    },
    {
     "name": "stderr",
     "output_type": "stream",
     "text": [
      " 12%|█▏        | 7/57 [01:04<07:35,  9.10s/it]"
     ]
    },
    {
     "name": "stdout",
     "output_type": "stream",
     "text": [
      "843\n",
      "astronomy\n"
     ]
    },
    {
     "name": "stderr",
     "output_type": "stream",
     "text": [
      " 14%|█▍        | 8/57 [01:11<06:57,  8.52s/it]"
     ]
    },
    {
     "name": "stdout",
     "output_type": "stream",
     "text": [
      "978\n",
      "anatomy\n"
     ]
    },
    {
     "name": "stderr",
     "output_type": "stream",
     "text": [
      " 16%|█▌        | 9/57 [01:18<06:24,  8.00s/it]"
     ]
    },
    {
     "name": "stdout",
     "output_type": "stream",
     "text": [
      "1078\n",
      "abstract_algebra\n"
     ]
    },
    {
     "name": "stderr",
     "output_type": "stream",
     "text": [
      " 18%|█▊        | 10/57 [01:29<06:57,  8.89s/it]"
     ]
    },
    {
     "name": "stdout",
     "output_type": "stream",
     "text": [
      "1190\n",
      "machine_learning\n"
     ]
    },
    {
     "name": "stderr",
     "output_type": "stream",
     "text": [
      " 19%|█▉        | 11/57 [01:37<06:31,  8.52s/it]"
     ]
    },
    {
     "name": "stdout",
     "output_type": "stream",
     "text": [
      "1455\n",
      "clinical_knowledge\n"
     ]
    },
    {
     "name": "stderr",
     "output_type": "stream",
     "text": [
      " 21%|██        | 12/57 [01:45<06:23,  8.52s/it]"
     ]
    },
    {
     "name": "stdout",
     "output_type": "stream",
     "text": [
      "1555\n",
      "global_facts\n"
     ]
    },
    {
     "name": "stderr",
     "output_type": "stream",
     "text": [
      " 23%|██▎       | 13/57 [01:53<06:04,  8.29s/it]"
     ]
    },
    {
     "name": "stdout",
     "output_type": "stream",
     "text": [
      "1658\n",
      "management\n"
     ]
    },
    {
     "name": "stderr",
     "output_type": "stream",
     "text": [
      " 25%|██▍       | 14/57 [02:02<06:06,  8.53s/it]"
     ]
    },
    {
     "name": "stdout",
     "output_type": "stream",
     "text": [
      "1964\n",
      "nutrition\n"
     ]
    },
    {
     "name": "stderr",
     "output_type": "stream",
     "text": [
      " 26%|██▋       | 15/57 [02:10<05:50,  8.34s/it]"
     ]
    },
    {
     "name": "stdout",
     "output_type": "stream",
     "text": [
      "2198\n",
      "marketing\n"
     ]
    },
    {
     "name": "stderr",
     "output_type": "stream",
     "text": [
      " 28%|██▊       | 16/57 [02:20<06:06,  8.94s/it]"
     ]
    },
    {
     "name": "stdout",
     "output_type": "stream",
     "text": [
      "2480\n",
      "professional_accounting\n"
     ]
    },
    {
     "name": "stderr",
     "output_type": "stream",
     "text": [
      " 30%|██▉       | 17/57 [02:29<05:52,  8.81s/it]"
     ]
    },
    {
     "name": "stdout",
     "output_type": "stream",
     "text": [
      "2678\n",
      "high_school_geography\n"
     ]
    },
    {
     "name": "stderr",
     "output_type": "stream",
     "text": [
      " 32%|███▏      | 18/57 [02:37<05:40,  8.72s/it]"
     ]
    },
    {
     "name": "stdout",
     "output_type": "stream",
     "text": [
      "2799\n",
      "international_law\n"
     ]
    },
    {
     "name": "stderr",
     "output_type": "stream",
     "text": [
      " 33%|███▎      | 19/57 [02:48<05:55,  9.36s/it]"
     ]
    },
    {
     "name": "stdout",
     "output_type": "stream",
     "text": [
      "3694\n",
      "moral_scenarios\n"
     ]
    },
    {
     "name": "stderr",
     "output_type": "stream",
     "text": [
      " 35%|███▌      | 20/57 [02:59<06:02,  9.80s/it]"
     ]
    },
    {
     "name": "stdout",
     "output_type": "stream",
     "text": [
      "3794\n",
      "computer_security\n"
     ]
    },
    {
     "name": "stderr",
     "output_type": "stream",
     "text": [
      " 37%|███▋      | 21/57 [03:08<05:45,  9.60s/it]"
     ]
    },
    {
     "name": "stdout",
     "output_type": "stream",
     "text": [
      "4032\n",
      "high_school_microeconomics\n"
     ]
    },
    {
     "name": "stderr",
     "output_type": "stream",
     "text": [
      " 39%|███▊      | 22/57 [03:19<05:52, 10.07s/it]"
     ]
    },
    {
     "name": "stdout",
     "output_type": "stream",
     "text": [
      "5566\n",
      "professional_law\n"
     ]
    },
    {
     "name": "stderr",
     "output_type": "stream",
     "text": [
      " 40%|████      | 23/57 [03:28<05:29,  9.69s/it]"
     ]
    },
    {
     "name": "stdout",
     "output_type": "stream",
     "text": [
      "5666\n",
      "medical_genetics\n"
     ]
    },
    {
     "name": "stderr",
     "output_type": "stream",
     "text": [
      " 42%|████▏     | 24/57 [03:39<05:32, 10.07s/it]"
     ]
    },
    {
     "name": "stdout",
     "output_type": "stream",
     "text": [
      "6278\n",
      "professional_psychology\n"
     ]
    },
    {
     "name": "stderr",
     "output_type": "stream",
     "text": [
      " 44%|████▍     | 25/57 [03:48<05:13,  9.81s/it]"
     ]
    },
    {
     "name": "stdout",
     "output_type": "stream",
     "text": [
      "6386\n",
      "jurisprudence\n"
     ]
    },
    {
     "name": "stderr",
     "output_type": "stream",
     "text": [
      " 46%|████▌     | 26/57 [03:59<05:13, 10.13s/it]"
     ]
    },
    {
     "name": "stdout",
     "output_type": "stream",
     "text": [
      "6557\n",
      "world_religions\n"
     ]
    },
    {
     "name": "stderr",
     "output_type": "stream",
     "text": [
      " 47%|████▋     | 27/57 [04:09<05:01, 10.04s/it]"
     ]
    },
    {
     "name": "stdout",
     "output_type": "stream",
     "text": [
      "6868\n",
      "philosophy\n"
     ]
    },
    {
     "name": "stderr",
     "output_type": "stream",
     "text": [
      " 49%|████▉     | 28/57 [04:18<04:46,  9.88s/it]"
     ]
    },
    {
     "name": "stdout",
     "output_type": "stream",
     "text": [
      "7034\n",
      "virology\n"
     ]
    },
    {
     "name": "stderr",
     "output_type": "stream",
     "text": [
      " 51%|█████     | 29/57 [04:27<04:28,  9.59s/it]"
     ]
    },
    {
     "name": "stdout",
     "output_type": "stream",
     "text": [
      "7237\n",
      "high_school_chemistry\n"
     ]
    },
    {
     "name": "stderr",
     "output_type": "stream",
     "text": [
      " 53%|█████▎    | 30/57 [04:35<04:07,  9.18s/it]"
     ]
    },
    {
     "name": "stdout",
     "output_type": "stream",
     "text": [
      "7347\n",
      "public_relations\n"
     ]
    },
    {
     "name": "stderr",
     "output_type": "stream",
     "text": [
      " 54%|█████▍    | 31/57 [04:45<04:00,  9.24s/it]"
     ]
    },
    {
     "name": "stdout",
     "output_type": "stream",
     "text": [
      "7737\n",
      "high_school_macroeconomics\n"
     ]
    },
    {
     "name": "stderr",
     "output_type": "stream",
     "text": [
      " 56%|█████▌    | 32/57 [04:57<04:09,  9.97s/it]"
     ]
    },
    {
     "name": "stdout",
     "output_type": "stream",
     "text": [
      "7868\n",
      "human_sexuality\n"
     ]
    },
    {
     "name": "stderr",
     "output_type": "stream",
     "text": [
      " 58%|█████▊    | 33/57 [05:06<03:52,  9.68s/it]"
     ]
    },
    {
     "name": "stdout",
     "output_type": "stream",
     "text": [
      "8246\n",
      "elementary_mathematics\n"
     ]
    },
    {
     "name": "stderr",
     "output_type": "stream",
     "text": [
      " 60%|█████▉    | 34/57 [05:15<03:40,  9.57s/it]"
     ]
    },
    {
     "name": "stdout",
     "output_type": "stream",
     "text": [
      "8397\n",
      "high_school_physics\n"
     ]
    },
    {
     "name": "stderr",
     "output_type": "stream",
     "text": [
      " 61%|██████▏   | 35/57 [05:24<03:24,  9.31s/it]"
     ]
    },
    {
     "name": "stdout",
     "output_type": "stream",
     "text": [
      "8497\n",
      "high_school_computer_science\n"
     ]
    },
    {
     "name": "stderr",
     "output_type": "stream",
     "text": [
      " 63%|██████▎   | 36/57 [05:31<03:05,  8.86s/it]"
     ]
    },
    {
     "name": "stdout",
     "output_type": "stream",
     "text": [
      "8662\n",
      "high_school_european_history\n"
     ]
    },
    {
     "name": "stderr",
     "output_type": "stream",
     "text": [
      " 65%|██████▍   | 37/57 [05:41<03:01,  9.06s/it]"
     ]
    },
    {
     "name": "stdout",
     "output_type": "stream",
     "text": [
      "8762\n",
      "business_ethics\n"
     ]
    },
    {
     "name": "stderr",
     "output_type": "stream",
     "text": [
      " 67%|██████▋   | 38/57 [06:02<04:01, 12.73s/it]"
     ]
    },
    {
     "name": "stdout",
     "output_type": "stream",
     "text": [
      "9108\n",
      "moral_disputes\n"
     ]
    },
    {
     "name": "stderr",
     "output_type": "stream",
     "text": [
      " 68%|██████▊   | 39/57 [06:12<03:31, 11.74s/it]"
     ]
    },
    {
     "name": "stdout",
     "output_type": "stream",
     "text": [
      "9324\n",
      "high_school_statistics\n"
     ]
    },
    {
     "name": "stderr",
     "output_type": "stream",
     "text": [
      " 70%|███████   | 40/57 [06:21<03:07, 11.01s/it]"
     ]
    },
    {
     "name": "stdout",
     "output_type": "stream",
     "text": [
      "10107\n",
      "miscellaneous\n"
     ]
    },
    {
     "name": "stderr",
     "output_type": "stream",
     "text": [
      " 72%|███████▏  | 41/57 [06:31<02:50, 10.63s/it]"
     ]
    },
    {
     "name": "stdout",
     "output_type": "stream",
     "text": [
      "10233\n",
      "formal_logic\n"
     ]
    },
    {
     "name": "stderr",
     "output_type": "stream",
     "text": [
      " 74%|███████▎  | 42/57 [06:42<02:44, 10.97s/it]"
     ]
    },
    {
     "name": "stdout",
     "output_type": "stream",
     "text": [
      "10426\n",
      "high_school_government_and_politics\n"
     ]
    },
    {
     "name": "stderr",
     "output_type": "stream",
     "text": [
      " 75%|███████▌  | 43/57 [06:52<02:26, 10.48s/it]"
     ]
    },
    {
     "name": "stdout",
     "output_type": "stream",
     "text": [
      "10750\n",
      "prehistory\n"
     ]
    },
    {
     "name": "stderr",
     "output_type": "stream",
     "text": [
      " 77%|███████▋  | 44/57 [07:03<02:17, 10.56s/it]"
     ]
    },
    {
     "name": "stdout",
     "output_type": "stream",
     "text": [
      "10995\n",
      "security_studies\n"
     ]
    },
    {
     "name": "stderr",
     "output_type": "stream",
     "text": [
      " 79%|███████▉  | 45/57 [07:15<02:12, 11.07s/it]"
     ]
    },
    {
     "name": "stdout",
     "output_type": "stream",
     "text": [
      "11305\n",
      "high_school_biology\n"
     ]
    },
    {
     "name": "stderr",
     "output_type": "stream",
     "text": [
      " 81%|████████  | 46/57 [07:24<01:55, 10.52s/it]"
     ]
    },
    {
     "name": "stdout",
     "output_type": "stream",
     "text": [
      "11468\n",
      "logical_fallacies\n"
     ]
    },
    {
     "name": "stderr",
     "output_type": "stream",
     "text": [
      " 82%|████████▏ | 47/57 [07:33<01:39,  9.92s/it]"
     ]
    },
    {
     "name": "stdout",
     "output_type": "stream",
     "text": [
      "11705\n",
      "high_school_world_history\n"
     ]
    },
    {
     "name": "stderr",
     "output_type": "stream",
     "text": [
      " 84%|████████▍ | 48/57 [07:43<01:30, 10.01s/it]"
     ]
    },
    {
     "name": "stdout",
     "output_type": "stream",
     "text": [
      "11977\n",
      "professional_medicine\n"
     ]
    },
    {
     "name": "stderr",
     "output_type": "stream",
     "text": [
      " 86%|████████▌ | 49/57 [07:51<01:16,  9.59s/it]"
     ]
    },
    {
     "name": "stdout",
     "output_type": "stream",
     "text": [
      "12247\n",
      "high_school_mathematics\n"
     ]
    },
    {
     "name": "stderr",
     "output_type": "stream",
     "text": [
      " 88%|████████▊ | 50/57 [07:59<01:03,  9.10s/it]"
     ]
    },
    {
     "name": "stdout",
     "output_type": "stream",
     "text": [
      "12420\n",
      "college_medicine\n"
     ]
    },
    {
     "name": "stderr",
     "output_type": "stream",
     "text": [
      " 89%|████████▉ | 51/57 [08:07<00:52,  8.77s/it]"
     ]
    },
    {
     "name": "stdout",
     "output_type": "stream",
     "text": [
      "12624\n",
      "high_school_us_history\n"
     ]
    },
    {
     "name": "stderr",
     "output_type": "stream",
     "text": [
      " 91%|█████████ | 52/57 [08:16<00:43,  8.60s/it]"
     ]
    },
    {
     "name": "stdout",
     "output_type": "stream",
     "text": [
      "12825\n",
      "sociology\n"
     ]
    },
    {
     "name": "stderr",
     "output_type": "stream",
     "text": [
      " 93%|█████████▎| 53/57 [08:24<00:33,  8.47s/it]"
     ]
    },
    {
     "name": "stdout",
     "output_type": "stream",
     "text": [
      "12939\n",
      "econometrics\n"
     ]
    },
    {
     "name": "stderr",
     "output_type": "stream",
     "text": [
      " 95%|█████████▍| 54/57 [08:32<00:24,  8.33s/it]"
     ]
    },
    {
     "name": "stdout",
     "output_type": "stream",
     "text": [
      "13484\n",
      "high_school_psychology\n"
     ]
    },
    {
     "name": "stderr",
     "output_type": "stream",
     "text": [
      " 96%|█████████▋| 55/57 [08:41<00:17,  8.72s/it]"
     ]
    },
    {
     "name": "stdout",
     "output_type": "stream",
     "text": [
      "13707\n",
      "human_aging\n"
     ]
    },
    {
     "name": "stderr",
     "output_type": "stream",
     "text": [
      " 98%|█████████▊| 56/57 [08:53<00:09,  9.66s/it]"
     ]
    },
    {
     "name": "stdout",
     "output_type": "stream",
     "text": [
      "13807\n",
      "us_foreign_policy\n"
     ]
    },
    {
     "name": "stderr",
     "output_type": "stream",
     "text": [
      "100%|██████████| 57/57 [09:04<00:00,  9.55s/it]"
     ]
    },
    {
     "name": "stdout",
     "output_type": "stream",
     "text": [
      "14042\n",
      "conceptual_physics\n"
     ]
    },
    {
     "name": "stderr",
     "output_type": "stream",
     "text": [
      "\n"
     ]
    }
   ],
   "source": [
    "from datasets import load_dataset\n",
    "from tqdm import tqdm\n",
    "mmlu_all_sets = [\n",
    "    \"college_biology\",\n",
    "    \"college_chemistry\",\n",
    "    \"college_computer_science\",\n",
    "    \"college_mathematics\",\n",
    "    \"college_physics\",\n",
    "    \"electrical_engineering\",\n",
    "    \"astronomy\",\n",
    "    \"anatomy\",\n",
    "    \"abstract_algebra\",\n",
    "    \"machine_learning\",\n",
    "    \"clinical_knowledge\",\n",
    "    \"global_facts\",\n",
    "    \"management\",\n",
    "    \"nutrition\",\n",
    "    \"marketing\",\n",
    "    \"professional_accounting\",\n",
    "    \"high_school_geography\",\n",
    "    \"international_law\",\n",
    "    \"moral_scenarios\",\n",
    "    \"computer_security\",\n",
    "    \"high_school_microeconomics\",\n",
    "    \"professional_law\",\n",
    "    \"medical_genetics\",\n",
    "    \"professional_psychology\",\n",
    "    \"jurisprudence\",\n",
    "    \"world_religions\",\n",
    "    \"philosophy\",\n",
    "    \"virology\",\n",
    "    \"high_school_chemistry\",\n",
    "    \"public_relations\",\n",
    "    \"high_school_macroeconomics\",\n",
    "    \"human_sexuality\",\n",
    "    \"elementary_mathematics\",\n",
    "    \"high_school_physics\",\n",
    "    \"high_school_computer_science\",\n",
    "    \"high_school_european_history\",\n",
    "    \"business_ethics\",\n",
    "    \"moral_disputes\",\n",
    "    \"high_school_statistics\",\n",
    "    \"miscellaneous\",\n",
    "    \"formal_logic\",\n",
    "    \"high_school_government_and_politics\",\n",
    "    \"prehistory\",\n",
    "    \"security_studies\",\n",
    "    \"high_school_biology\",\n",
    "    \"logical_fallacies\",\n",
    "    \"high_school_world_history\",\n",
    "    \"professional_medicine\",\n",
    "    \"high_school_mathematics\",\n",
    "    \"college_medicine\",\n",
    "    \"high_school_us_history\",\n",
    "    \"sociology\",\n",
    "    \"econometrics\",\n",
    "    \"high_school_psychology\",\n",
    "    \"human_aging\",\n",
    "    \"us_foreign_policy\",\n",
    "    \"conceptual_physics\",\n",
    "]\n",
    "total_len = 0\n",
    "for subset in tqdm(mmlu_all_sets):\n",
    "    dataset = load_dataset(\"cais/mmlu\", subset)\n",
    "    total_len += len(dataset[\"test\"])\n",
    "    print(total_len)\n",
    "    print(subset)"
   ]
  }
 ],
 "metadata": {
  "kernelspec": {
   "display_name": "base",
   "language": "python",
   "name": "python3"
  },
  "language_info": {
   "codemirror_mode": {
    "name": "ipython",
    "version": 3
   },
   "file_extension": ".py",
   "mimetype": "text/x-python",
   "name": "python",
   "nbconvert_exporter": "python",
   "pygments_lexer": "ipython3",
   "version": "3.12.9"
  }
 },
 "nbformat": 4,
 "nbformat_minor": 2
}
