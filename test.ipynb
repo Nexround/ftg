{
 "cells": [
  {
   "cell_type": "code",
   "execution_count": 1,
   "id": "8d34d33c",
   "metadata": {},
   "outputs": [
    {
     "data": {
      "application/vnd.jupyter.widget-view+json": {
       "model_id": "e2129d93dbdf44728504587f6ceb4c40",
       "version_major": 2,
       "version_minor": 0
      },
      "text/plain": [
       "Loading checkpoint shards:   0%|          | 0/2 [00:00<?, ?it/s]"
      ]
     },
     "metadata": {},
     "output_type": "display_data"
    },
    {
     "name": "stderr",
     "output_type": "stream",
     "text": [
      "/root/miniconda3/lib/python3.12/site-packages/torch/_inductor/compile_fx.py:167: UserWarning: TensorFloat32 tensor cores for float32 matrix multiplication available but not enabled. Consider setting `torch.set_float32_matmul_precision('high')` for better performance.\n",
      "  warnings.warn(\n"
     ]
    },
    {
     "name": "stdout",
     "output_type": "stream",
     "text": [
      "Plants create energy through a process known as photosynthesis. The process takes place in the leaves of the plant, which are called the green leaves. The green leaves contain chlorophyll, which is the green pigment that absorbs the energy from the sun. The energy is used to make food for the plant.\n",
      "The leaves of the plant contain chlorophyll, which is the green pigment that absorbs the energy from the sun. The energy is used to make food for the plant.\n",
      "The chlorophyll in the leaves of the plant is used to make food for the plant. The food is used to make energy for the plant. The energy is used to make food for the plant.\n",
      "The food is used to make energy for the plant. The energy is used to make food for the plant. The food is used to make energy for the plant. The energy is used to make food for the plant. The food is used to make energy for the plant. The energy is used to make food for the plant. The food is used to make energy for the plant. The energy is used to make food for the plant. The food is used to make energy for the plant. The energy is used to make food for the plant. The food is used to make energy for the plant. The energy is used to make food for the plant. The food is used to make energy for the plant. The energy is used to make food for the plant. The food is used to make energy for the plant. The energy is used to make food for the plant. The food is used to make energy for the plant. The energy is used to make food for the plant. The food is used to make energy for the plant. The energy is used to make food for the plant. The food is used to make energy for the plant. The energy is used to make food for the plant. The food is used to make energy for the plant. The energy is used to make food for the plant. The food is used to make energy for the plant. The energy is used to make food for the plant. The food is used to make energy for the plant. The energy is used to make food for the plant. The food is used to make energy for the plant. The energy is used to make food for the plant. The food is used to make energy for the plant. The energy is used to make food for the plant. The food is used to make energy for the plant. The energy is used to make food for the plant. The food is used to make energy for the plant. The energy is used to make food for the plant. The food is used to make energy for the plant. The energy is used to make food for the plant. The food is used to make energy for the plant. The energy is used to make food for the plant. The food is used to make energy for the plant. The energy is used to make food for the plant. The food is used to make energy for the plant. The energy is used to make food for the plant. The food is used to make energy for the plant. The energy is used to make food for the plant. The food is used to make energy for the plant. The energy is used to make food for the plant. The food is used to make energy for the plant. The energy is used to make food for the plant. The food is used to make energy for the plant. The energy is used to make food for the plant. The food is used to make energy for the plant. The energy is used to make food for the plant. The food is used to make energy for the plant. The energy is used to make food for the plant. The food is used to make energy for the plant. The energy is used to make food for the plant. The food is used to make energy for the plant. The energy is used to make food for the plant. The food is used to make energy for the plant. The energy is used to make food for the plant. The food is used to make energy for the plant. The energy is used to make food for the plant. The food is used to make energy for the plant. The energy is used to make food for the plant. The food is used to make energy for the plant. The energy is used to make food for the plant. The food is used to make energy for the plant. The energy is used to make food for the plant. The food is used to make energy for the plant. The energy is used to make food for the plant. The food is used to make energy for the plant. The energy is used to make food for the plant. The food is used to make energy for the plant. The energy is used to make food for the plant. The food is used to make energy for the plant. The energy is used to make food for the plant. The food is used to make energy for the plant. The energy is used to make food for the plant. The food is used to make energy for the plant. The energy is used to make food for the plant. The food is used to make energy for the plant. The energy is used to make food for the plant. The food is used to make energy for the plant. The energy is used to make food for the plant. The food is used to make energy for the plant. The energy is used to make food for the plant. The food is used to make energy for the plant. The energy is used to make food for the plant. The food is used to make energy for the plant. The energy is used to make food for the plant. The food is used to make energy for the plant. The energy is used to make food for the plant. The food is used to make energy for the plant. The energy is used to make food for the plant. The food is used to make energy for the plant. The energy is used to make food for the plant. The food is used to make energy for the plant. The energy is used to make food for the plant. The food is used to make energy for the plant. The energy is used to make food for the plant. The food is used to make energy for the plant. The energy is used to make food for the plant. The food is used to make energy for the plant. The energy is used to make food for the plant. The food is used to make energy for the plant. The energy is used to make food for the plant. The food is used to make energy for the plant. The energy is used to make food for the plant. The food is used to make energy for the plant. The energy is used to make food for the plant. The food is used to make energy for the plant. The energy is used to make food for the plant. The food is used to make energy for the plant. The energy is used to make food for the plant. The food is used to make energy for the plant. The energy is used to make food for the plant. The food is used to make energy for the plant. The energy is used to make food for the plant. The food is used to make energy for the plant. The energy is used to make food for the plant. The food is used to make energy for the plant. The energy is used to make food for the plant. The food is used to make energy for the plant. The energy is used to make food for the plant. The food is used to make energy for the plant. The energy is used to make food for the plant. The food is used to make energy for the plant. The energy is used to make food for the plant. The food is used to make energy for the plant. The energy is used to make food for the plant. The food is used to make energy for the plant. The energy is used to make food for the plant. The food is used to make energy for the plant. The energy is used to make food for the plant. The food is used to make energy for the plant. The energy is used to make food for the plant. The food is used to make energy for the plant. The energy is used to make food for the plant. The food is used to make energy for the plant. The energy is used to make food for the plant. The food is used to make energy for the plant. The energy is used to make food for the plant. The food is used to make energy for the plant. The energy is used to make food for the plant. The food is used to make energy for the plant. The energy is used to make food for the plant. The food is used to make energy for the plant. The energy is used to make food for the plant. The food is used to make energy for the plant. The energy is used to make food for the plant. The food is used to make energy for the plant. The energy is used to make food for the plant. The food is used to make energy for the plant. The energy is used to make food for the plant. The food is used to make energy for the plant. The energy is used to make food for the plant. The food is used to make energy for the plant. The energy is used to make food for the plant. The food is used to make energy for the plant. The energy is used to make food for the plant. The food is used to make energy for the plant. The energy is used to make food for the plant. The food is used to make energy for the plant. The energy is used to make food for the plant. The food is used to make energy for the plant. The energy is used to make food for the plant. The food is used to make energy for the plant. The energy is used to make food for the plant. The food is used to make energy for the plant. The energy is used to make food for the plant. The food is used to make energy for the plant. The energy is used to make food for the plant. The food is used to make energy for the plant. The energy is used to make food for the plant. The food is used to make energy for the plant. The energy is used to make food for the plant. The food is used to make energy for the plant. The energy is used to make food for the plant. The food is used to make energy for the plant. The energy is used to make food for the plant. The food is used to make energy for the plant. The energy is used to make food for the plant. The food is used to make energy for the plant. The energy is used to make food for the plant. The food is used to make energy for the plant. The energy is used to make food for the plant. The food is used to make energy for the plant. The energy is used to make food for the plant. The food is used to make energy for the plant. The energy is used to make food for the plant. The food is used to make energy for the plant. The energy is used to make food for the plant. The food is used to make energy for the plant. The energy is used to make food for the plant. The food is used to make energy for the plant. The energy is used to make food for the plant. The food is used to make energy for the plant. The energy is used to make food for the plant. The food is used to make energy for the plant. The energy is used to make food for the plant. The food is used to make energy for the plant. The energy is used to make food for the plant. The food is used to make energy for the plant. The energy is used to make food for the plant. The food is used to make energy for the plant. The energy is used to make food for the plant. The food is used to make energy for the plant. The energy is used to make food for the plant. The food is used to make energy for the plant. The energy is used to make food for the plant. The food is used to make energy for the plant. The energy is used to make food for the plant. The food is used to make energy for the plant. The energy is used to make food for the plant. The food is used to make energy for the plant. The energy is used to make food for the plant. The food is used to make energy for the plant. The energy is used to make food for the plant. The food is used to make energy for the plant. The energy is used to make food for the plant. The food is used to make energy for the plant. The energy is used to make food for the plant. The food is used to make energy for the plant. The energy is used to make food for the plant. The food is used to make energy for the plant. The energy is used to make food for the plant. The food is used to make energy for the plant. The energy is used to make food for the plant. The food is used to make energy for the plant. The energy is used to make food for the plant. The food is used to make energy for the plant. The energy is used to make food for the plant. The food is used to make energy for the plant. The energy is used to make food for the plant. The food is used to make energy for the plant. The energy is used to make food for the plant. The food is used to make energy for the plant. The energy is used to make food for the plant. The food is used to make energy for the plant. The energy is used to make food for the plant. The food is used to make energy for the plant. The energy is used to make food for the plant. The food is used to make energy for the plant. The energy is used to make food for the plant. The food is used to make energy for the plant. The energy is used to make food for the plant. The food is used to make energy for the plant. The energy is used to make food for the plant. The food is used to make energy for the plant. The energy is used to make food for the plant. The food is used to make energy for the plant. The energy is used to make food for the plant. The energy is used to make food for the plant. The food is used to make energy for the plant. The energy is used to make food for the plant. The food is used to make energy for the plant. The energy is used to make food for the plant. The food is used to make energy for the plant. The energy is used to make food for the plant. The food is used to make energy for the plant. The energy is used to make food for the plant. The food is used to make energy for the plant. The energy is used to make food for the plant. The food is used to make energy for the plant. The energy is used to make food for the plant. The food is used to make energy for the plant. The energy is used to make food for the plant. The food is used to make energy for the plant. The energy is used to make food for the plant. The food is used to make energy for the plant. The energy is used to make food for the plant. The food is used to make energy for the plant. The energy is used to make food for the plant. The food is used to make energy for the plant. The food is used to make energy for the plant. The energy is used to make food for the plant. The food is used to make energy for the plant. The energy is used to make food for the plant. The energy is used to make food for the plant. The food is used to make energy for the plant. The energy is used to make food for the plant. The food is used to make energy for the plant. The energy is used to make food for the plant. The energy is used to make food for the plant. The energy is used to make food for the plant. The energy is used to make food for the plant. The energy is used to make food for the plant. The energy is used to make food for the plant. The energy is used to make food for the plant. The energy is used to make food for the plant. The energy is used to make food for the plant. The energy is used to make food for the plant. The energy is used to make food for the plant. The energy is used to make food for the plant. The energy is used to make food for the plant. The energy is used to make food for the plant. The energy is used to make food for the plant. The energy is used to make food for the plant. The energy is used to make food for the plant. The energy is used to make food for the plant. The energy is used to make food for the plant. The energy is used to make food for the plant. The energy is used to make food for the plant. The energy is used to make food for the plant. The energy is used to make food for the plant. The energy is used to make food for the plant. The energy is used to make food for the plant. The energy is used to make food for the plant. The energy is used to make food for the plant. The energy is used to make food for the plant. The energy is used to make food for the plant. The energy is used to make food for the plant. The energy is used to make food for the plant. The energy is used to make food for the plant. The energy is used to make food for the plant. The energy is used to make food for the plant. The energy is used to make food for the plant. The energy is used to make food for the plant. The energy is used to make food for the plant. The energy is used to make food for the plant. The energy is used to make food for the plant. The energy is used to make food for the plant. The energy is used to make food for the plant. The energy is used to make food for the plant. The energy is used to make food for the plant. The energy is used to make food for the plant. The energy is used to make food for the plant. The energy is used to make food for the plant. The energy is used to make food for the plant. The energy is used to make food for the plant. The energy is used to make food for the plant. The energy is used to make food for the plant. The energy is used to make food for the plant. The energy is used to make food for the plant. The energy is used to make food for the plant. The energy is used to make food for the plant. The energy is used to make food for the plant. The energy is used to make food for the plant. The energy is used to make food for the plant. The energy is used to make food for the plant. The energy is used to make food for the plant. The energy is used to make food for the plant. The energy is used to make food for the plant. The energy is used to make food for the plant. The energy is used to make food for the plant. The energy is used to make food for the plant. The energy is used to make food for the plant. The energy is used to make food for the plant. The energy is used to make food for the plant. The energy is used to make food for the plant. The energy is used to make food for the plant. The energy is used to make food for the plant. The energy is used to make food for the plant. The energy is used to make food for the plant. The energy is used to make food for the plant. The energy is used to make food for the plant. The energy is used to make food\n"
     ]
    }
   ],
   "source": [
    "import torch\n",
    "from transformers import AutoModelForCausalLM, AutoTokenizer\n",
    "\n",
    "tokenizer = AutoTokenizer.from_pretrained(\n",
    "    \"/cache/models/official_models/Llama-2-7b-hf\",\n",
    ")\n",
    "model = AutoModelForCausalLM.from_pretrained(\n",
    "    \"/cache/models/official_models/Llama-2-7b-hf\",\n",
    "    torch_dtype=torch.float16,\n",
    "    device_map=\"auto\",\n",
    "    attn_implementation=\"sdpa\"\n",
    ")\n",
    "device = \"cuda\" if torch.cuda.is_available() else \"cpu\"\n",
    "model.to(device)\n",
    "input_ids = tokenizer(\"Plants create energy through a process known as\", return_tensors=\"pt\").to(\"cuda\")\n",
    "\n",
    "output = model.generate(**input_ids, cache_implementation=\"static\")\n",
    "print(tokenizer.decode(output[0], skip_special_tokens=True))\n"
   ]
  },
  {
   "cell_type": "code",
   "execution_count": 1,
   "id": "1833f550",
   "metadata": {},
   "outputs": [
    {
     "name": "stdout",
     "output_type": "stream",
     "text": [
      "Suppressed-Highest 平均性能差距: 19.18\n",
      "Suppressed-Lowest 平均性能差距: 9.73\n"
     ]
    }
   ],
   "source": [
    "import numpy as np\n",
    "\n",
    "# 原始模型 Qwen 的性能\n",
    "qwen = np.array([24.37, 39.65, 30.98, 44.20, 26.83, 33.39])\n",
    "\n",
    "# Suppressed-Highest 模型\n",
    "suppressed_high = np.array([12.58, 4.7, 23.54, 24.07, 0, 19.45])\n",
    "\n",
    "# Suppressed-Lowest 模型\n",
    "suppressed_low = np.array([19.63, 11.3, 29.01, 44.51, 6.71, 29.89])\n",
    "\n",
    "# 计算差值（Qwen - 变种）\n",
    "diff_high = qwen - suppressed_high\n",
    "diff_low = qwen - suppressed_low\n",
    "\n",
    "# 计算平均差距\n",
    "avg_diff_high = np.mean(diff_high)\n",
    "avg_diff_low = np.mean(diff_low)\n",
    "\n",
    "print(f\"Suppressed-Highest 平均性能差距: {avg_diff_high:.2f}\")\n",
    "print(f\"Suppressed-Lowest 平均性能差距: {avg_diff_low:.2f}\")\n"
   ]
  },
  {
   "cell_type": "code",
   "execution_count": 2,
   "id": "c2da5901",
   "metadata": {},
   "outputs": [
    {
     "name": "stdout",
     "output_type": "stream",
     "text": [
      "Global-Highest 平均性能差距: 10.80\n",
      "Global-Lowest 平均性能差距: 6.74\n"
     ]
    }
   ],
   "source": [
    "import numpy as np\n",
    "\n",
    "# LoKI 模型的性能\n",
    "loki = np.array([20.53, 37.98, 21.53, 47.04, 24.39, 33.39])\n",
    "\n",
    "# Global-Highest 模型\n",
    "global_high = np.array([11.04, 29.34, 10.23, 17.68, 25.00, 26.79])\n",
    "\n",
    "# Global-Lowest 模型\n",
    "global_low = np.array([9.83, 30.93, 8.48, 43.09, 24.39, 27.72])\n",
    "\n",
    "# 计算差距\n",
    "diff_high = loki - global_high\n",
    "diff_low = loki - global_low\n",
    "\n",
    "# 计算平均差距\n",
    "avg_diff_high = np.mean(diff_high)\n",
    "avg_diff_low = np.mean(diff_low)\n",
    "\n",
    "print(f\"Global-Highest 平均性能差距: {avg_diff_high:.2f}\")\n",
    "print(f\"Global-Lowest 平均性能差距: {avg_diff_low:.2f}\")\n"
   ]
  },
  {
   "cell_type": "code",
   "execution_count": 3,
   "id": "3931e46a",
   "metadata": {},
   "outputs": [
    {
     "name": "stdout",
     "output_type": "stream",
     "text": [
      "LoKI(q=20) 与 Qwen 平均性能差距: 0.29\n"
     ]
    }
   ],
   "source": [
    "import numpy as np\n",
    "\n",
    "# Qwen 原始模型\n",
    "qwen = np.array([24.37, 39.65, 30.98, 44.20, 26.83, 33.39])\n",
    "\n",
    "# LoKI(q=20)，跳过参数量字段，仅取6个性能指标\n",
    "loki_q20 = np.array([19.77, 36.77, 33.16, 47.28, 27.44, 33.27])\n",
    "\n",
    "# 差距（Qwen - LoKI）\n",
    "diff = qwen - loki_q20\n",
    "\n",
    "# 计算平均差距\n",
    "avg_diff = np.mean(diff)\n",
    "\n",
    "print(f\"LoKI(q=20) 与 Qwen 平均性能差距: {avg_diff:.2f}\")\n"
   ]
  },
  {
   "cell_type": "code",
   "execution_count": 10,
   "id": "4ea96490",
   "metadata": {},
   "outputs": [
    {
     "name": "stdout",
     "output_type": "stream",
     "text": [
      "      Model Avg. % Drop vs Qwen\n",
      "  LoKI(q=5)               6.12%\n",
      " LoKI(q=10)               8.86%\n",
      " LoKI(q=20)               1.70%\n",
      " LoKI(q=30)              53.68%\n",
      "  LoRA(r=1)              75.64%\n",
      "  LoRA(r=8)              87.52%\n",
      "LB-Reranker              84.13%\n"
     ]
    }
   ],
   "source": [
    "import numpy as np\n",
    "import pandas as pd\n",
    "\n",
    "# Qwen 性能（跳过 'NaN'）\n",
    "qwen = np.array([24.37, 39.65, 30.98, 44.20, 26.83, 33.39])\n",
    "\n",
    "# 模型名称与对应性能（跳过参数量字段）\n",
    "models = {\n",
    "    \"LoKI(q=5)\":   [20.53, 38.36, 30.52, 40.09, 24.39, 34.12],\n",
    "    \"LoKI(q=10)\":  [20.53, 37.98, 21.53, 47.04, 24.39, 33.39],\n",
    "    \"LoKI(q=20)\":  [19.77, 36.77, 33.16, 47.28, 27.44, 33.27],\n",
    "    \"LoKI(q=30)\":  [5.42, 34.04, 0.01, 1.18, 21.34, 29.25],\n",
    "    \"LoRA(r=1)\":   [13.12, 5.61, 0.00, 0.24, 0.00, 25.93],\n",
    "    \"LoRA(r=8)\":   [0.62, 1.14, 0.00, 0.00, 0.00, 23.20],\n",
    "    \"LB-Reranker\": [4.65, 2.65, 0.00, 0.00, 0.00, 23.20]\n",
    "}\n",
    "\n",
    "# 计算每个模型相对于 Qwen 的平均下降百分比\n",
    "results = []\n",
    "for name, scores in models.items():\n",
    "    scores = np.array(scores)\n",
    "    percent_drop = (qwen - scores) / qwen  # 相对下降百分比\n",
    "    avg_percent_drop = np.mean(percent_drop) * 100  # 转为百分比形式\n",
    "    results.append((name, avg_percent_drop))\n",
    "\n",
    "# 转为表格\n",
    "df = pd.DataFrame(results, columns=[\"Model\", \"Avg. % Drop vs Qwen\"])\n",
    "# df = df.sort_values(\"Avg. % Drop vs Qwen\")\n",
    "\n",
    "print(df.to_string(index=False, formatters={\"Avg. % Drop vs Qwen\": \"{:.2f}%\".format}))\n"
   ]
  },
  {
   "cell_type": "code",
   "execution_count": 11,
   "id": "edfd6124",
   "metadata": {},
   "outputs": [
    {
     "name": "stdout",
     "output_type": "stream",
     "text": [
      "     Model Avg. % Drop vs Llama\n",
      "LoKI(q=10)                1.47%\n",
      "LoKI(q=30)                2.10%\n",
      "LoKI(q=20)                2.35%\n",
      "   ToolACE               17.11%\n"
     ]
    }
   ],
   "source": [
    "import numpy as np\n",
    "import pandas as pd\n",
    "\n",
    "# Llama 作为基准模型（跳过 NaN）\n",
    "llama = np.array([65.77, 84.5, 73.85, 62.98, 72.6, 80.4])\n",
    "\n",
    "# 其它模型及其性能（忽略参数量）\n",
    "models = {\n",
    "    \"LoKI(q=10)\": [65.85, 84.99, 75.14, 61.33, 68.90, 77.54],\n",
    "    \"LoKI(q=20)\": [65.60, 84.31, 73.60, 60.62, 67.68, 78.18],\n",
    "    \"LoKI(q=30)\": [65.49, 84.61, 71.16, 61.09, 70.73, 77.94],\n",
    "    \"ToolACE\":    [64.63, 79.53, 46.81, 42.78, 60.37, 72.76]\n",
    "}\n",
    "\n",
    "# 计算平均下降百分比\n",
    "results = []\n",
    "for name, scores in models.items():\n",
    "    scores = np.array(scores)\n",
    "    percent_drop = (llama - scores) / llama\n",
    "    avg_percent_drop = np.mean(percent_drop) * 100\n",
    "    results.append((name, avg_percent_drop))\n",
    "\n",
    "# 结果表格\n",
    "df = pd.DataFrame(results, columns=[\"Model\", \"Avg. % Drop vs Llama\"])\n",
    "df = df.sort_values(\"Avg. % Drop vs Llama\")\n",
    "\n",
    "print(df.to_string(index=False, formatters={\"Avg. % Drop vs Llama\": \"{:.2f}%\".format}))\n",
    "\n"
   ]
  },
  {
   "cell_type": "code",
   "execution_count": 1,
   "id": "c83bebcc",
   "metadata": {},
   "outputs": [
    {
     "name": "stdout",
     "output_type": "stream",
     "text": [
      "                  Model Avg. % Drop vs Qwen\n",
      " Suppressed-Lowest(q=1)              30.35%\n",
      "Suppressed-Highest(q=1)              57.97%\n"
     ]
    }
   ],
   "source": [
    "import numpy as np\n",
    "import pandas as pd\n",
    "\n",
    "# 基准模型 Qwen 的性能\n",
    "qwen = np.array([24.37, 39.65, 30.98, 44.20, 26.83, 33.39])\n",
    "\n",
    "# 变种模型的性能\n",
    "models = {\n",
    "    \"Suppressed-Highest(q=1)\": [12.58, 4.7, 23.54, 24.07, 0, 19.45],\n",
    "    \"Suppressed-Lowest(q=1)\":  [19.63, 11.3, 29.01, 44.51, 6.71, 29.89]\n",
    "}\n",
    "\n",
    "# 计算平均下降百分比\n",
    "results = []\n",
    "for name, scores in models.items():\n",
    "    scores = np.array(scores)\n",
    "    percent_drop = (qwen - scores) / qwen\n",
    "    avg_percent_drop = np.mean(percent_drop) * 100\n",
    "    results.append((name, avg_percent_drop))\n",
    "\n",
    "# 转为 DataFrame\n",
    "df = pd.DataFrame(results, columns=[\"Model\", \"Avg. % Drop vs Qwen\"])\n",
    "df = df.sort_values(\"Avg. % Drop vs Qwen\")\n",
    "\n",
    "# 显示结果\n",
    "print(df.to_string(index=False, formatters={\"Avg. % Drop vs Qwen\": \"{:.2f}%\".format}))\n"
   ]
  },
  {
   "cell_type": "code",
   "execution_count": 2,
   "id": "b270575d",
   "metadata": {},
   "outputs": [
    {
     "name": "stdout",
     "output_type": "stream",
     "text": [
      "               Model  TriviaQA  GSM8K  HellaSwag  WinoGrande  HumanEval  IFEval Avg(%, ↓)\n",
      "          LoKI(q=10)     20.53  37.98      21.53       47.04      24.39   33.39     8.86%\n",
      "Global-Highest(q=10)     11.04  29.34      10.23       17.68      25.00   26.79    39.04%\n",
      " Global-Lowest(q=10)      9.83  30.93       8.48       43.09      24.39   27.72    30.48%\n"
     ]
    }
   ],
   "source": [
    "import numpy as np\n",
    "import pandas as pd\n",
    "\n",
    "# 基准模型 Qwen 的性能（对应 6 个任务）\n",
    "qwen = np.array([24.37, 39.65, 30.98, 44.20, 26.83, 33.39])\n",
    "\n",
    "# 其它模型及其性能\n",
    "models = {\n",
    "    \"LoKI(q=10)\":            [20.53, 37.98, 21.53, 47.04, 24.39, 33.39],\n",
    "    \"Global-Highest(q=10)\":  [11.04, 29.34, 10.23, 17.68, 25.00, 26.79],\n",
    "    \"Global-Lowest(q=10)\":   [9.83, 30.93, 8.48, 43.09, 24.39, 27.72]\n",
    "}\n",
    "\n",
    "# 计算相对下降百分比\n",
    "results = []\n",
    "for name, scores in models.items():\n",
    "    scores = np.array(scores)\n",
    "    percent_drop = (qwen - scores) / qwen\n",
    "    avg_percent_drop = np.mean(percent_drop) * 100\n",
    "    results.append([name] + list(scores) + [avg_percent_drop])\n",
    "\n",
    "# 构建 DataFrame\n",
    "columns = [\"Model\", \"TriviaQA\", \"GSM8K\", \"HellaSwag\", \"WinoGrande\", \"HumanEval\", \"IFEval\", \"Avg(%, ↓)\"]\n",
    "df = pd.DataFrame(results, columns=columns)\n",
    "\n",
    "# 美化输出\n",
    "pd.set_option(\"display.float_format\", \"{:.2f}\".format)\n",
    "print(df.to_string(index=False, formatters={\"Avg(%, ↓)\": \"{:.2f}%\".format}))\n"
   ]
  }
 ],
 "metadata": {
  "kernelspec": {
   "display_name": "base",
   "language": "python",
   "name": "python3"
  },
  "language_info": {
   "codemirror_mode": {
    "name": "ipython",
    "version": 3
   },
   "file_extension": ".py",
   "mimetype": "text/x-python",
   "name": "python",
   "nbconvert_exporter": "python",
   "pygments_lexer": "ipython3",
   "version": "3.12.2"
  }
 },
 "nbformat": 4,
 "nbformat_minor": 5
}
