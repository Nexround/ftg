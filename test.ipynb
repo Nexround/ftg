{
 "cells": [
  {
   "cell_type": "code",
   "execution_count": 5,
   "metadata": {},
   "outputs": [
    {
     "name": "stdout",
     "output_type": "stream",
     "text": [
      "Activations saved to ./activations/activations.json\n"
     ]
    }
   ],
   "source": [
    "import torch\n",
    "from transformers import BertModel, BertTokenizer\n",
    "import json\n",
    "import os\n",
    "\n",
    "# 1. 加载 BERT 模型和 tokenizer\n",
    "model_name = \"bert-base-uncased\"\n",
    "tokenizer = BertTokenizer.from_pretrained(model_name)\n",
    "model = BertModel.from_pretrained(model_name)\n",
    "\n",
    "# 2. 定义一个字典来存储激活值\n",
    "activations = {}\n",
    "\n",
    "# 3. 定义钩子函数来捕获特定位置的激活值\n",
    "def hook_fn(layer_name, target_token_idx):\n",
    "    def hook(module, input, output):\n",
    "        # 获取特定token位置的激活值\n",
    "        # output的形状为 (batch_size, seq_len, hidden_size)\n",
    "        # 我们选定目标token的位置target_token_idx\n",
    "        target_activation = output.detach().cpu().numpy()[:, target_token_idx, :]\n",
    "        activations[layer_name] = target_activation.tolist()\n",
    "    return hook\n",
    "\n",
    "# 4. 注册钩子：遍历所有 Transformer 层并注册钩子\n",
    "hooks = []\n",
    "input_text = \"Hello, how are you?\"\n",
    "\n",
    "# 5. 将输入文本转换为token，并获取目标token的位置（如[CLS]或某个token）\n",
    "inputs = tokenizer(input_text, return_tensors=\"pt\")\n",
    "tokens = tokenizer.tokenize(input_text)\n",
    "\n",
    "# 假设我们想要获取第一个token（[CLS]）的位置\n",
    "target_token_idx = 0  # [CLS]通常是第一个token\n",
    "\n",
    "# 6. 注册钩子到每一层的 intermediate.dense（FFN部分）\n",
    "for i, layer in enumerate(model.encoder.layer):\n",
    "    hook = layer.intermediate.dense.register_forward_hook(hook_fn(f\"layer_{i}_ffn\", target_token_idx))\n",
    "    hooks.append(hook)\n",
    "\n",
    "# 7. 执行前向传播\n",
    "outputs = model(**inputs)\n",
    "\n",
    "# 8. 保存激活值到硬盘（保存为 JSON 格式）\n",
    "save_dir = \"./activations\"\n",
    "os.makedirs(save_dir, exist_ok=True)\n",
    "\n",
    "# 保存路径\n",
    "activation_file_path = os.path.join(save_dir, \"activations.json\")\n",
    "\n",
    "# 将激活值字典保存为 JSON 文件\n",
    "with open(activation_file_path, 'w') as json_file:\n",
    "    json.dump(activations, json_file)\n",
    "\n",
    "print(f\"Activations saved to {activation_file_path}\")\n",
    "\n",
    "# 9. 移除钩子\n",
    "for hook in hooks:\n",
    "    hook.remove()\n"
   ]
  },
  {
   "cell_type": "code",
   "execution_count": null,
   "metadata": {},
   "outputs": [
    {
     "name": "stderr",
     "output_type": "stream",
     "text": [
      "Generating train split: 100%|██████████| 650000/650000 [00:04<00:00, 147040.35 examples/s]\n",
      "Generating test split: 100%|██████████| 50000/50000 [00:00<00:00, 145301.66 examples/s]\n"
     ]
    }
   ],
   "source": [
    "# from datasets import load_dataset\n",
    "# ds = load_dataset(\"coastalcph/lex_glue\", \"ecthr_a\", cache_dir=\"/cache/huggingface/datasets\")\n",
    "from datasets import load_dataset\n",
    "\n",
    "ds = load_dataset(\"codyburker/yelp_review_sampled\", cache_dir=\"/cache/huggingface/datasets\")\n",
    "# ds = load_dataset(\"Yelp/yelp_review_full\", cache_dir=\"/cache/huggingface/datasets\")\n",
    "\n",
    "# ds = load_dataset(\"bookcorpus/bookcorpus\", cache_dir=\"/cache/huggingface/datasets\")\n",
    "# ds = load_dataset(\"bookcorpus/bookcorpus\", cache_dir=\"/cache/huggingface/datasets\")"
   ]
  },
  {
   "cell_type": "code",
   "execution_count": 2,
   "metadata": {},
   "outputs": [
    {
     "data": {
      "image/png": "[encoded data removed]",
      "text/plain": [
       "<Figure size 640x480 with 1 Axes>"
      ]
     },
     "metadata": {},
     "output_type": "display_data"
    }
   ],
   "source": [
    "from collections import Counter\n",
    "import matplotlib.pyplot as plt\n",
    "\n",
    "# 示例 Counter 对象\n",
    "data = Counter({'A': 10, 'B': 15, 'C': 5, 'D': 20})\n",
    "\n",
    "# 绘制直方图\n",
    "def plot_counter_histogram(counter_obj):\n",
    "    labels = list(counter_obj.keys())\n",
    "    values = list(counter_obj.values())\n",
    "\n",
    "    plt.bar(labels, values, color='skyblue', edgecolor='black')\n",
    "    plt.xlabel('Categories')\n",
    "    plt.ylabel('Counts')\n",
    "    plt.title('Histogram of Counter')\n",
    "    plt.show()\n",
    "\n",
    "# 调用函数绘制\n",
    "plot_counter_histogram(data)"
   ]
  },
  {
   "cell_type": "code",
   "execution_count": 4,
   "metadata": {},
   "outputs": [
    {
     "name": "stdout",
     "output_type": "stream",
     "text": [
      "tensor([[ 0.0000, -0.0000, -0.0000, -0.0000, -0.0000, -0.0000, -0.0000,  0.0000,\n",
      "          0.0000,  0.0000],\n",
      "        [ 0.0000, -0.0000, -0.0000, -0.0000, -0.0000, -0.0000, -0.0000,  0.0000,\n",
      "          0.0000,  0.0000],\n",
      "        [ 0.7593, -0.1422, -0.8351, -0.6397, -0.1545, -1.1371, -0.7905,  0.8253,\n",
      "          1.0648,  0.4474],\n",
      "        [ 0.0000, -0.0000, -0.0000, -0.0000, -0.0000, -0.0000, -0.0000,  0.0000,\n",
      "          0.0000,  0.0000],\n",
      "        [ 0.0000, -0.0000, -0.0000, -0.0000, -0.0000, -0.0000, -0.0000,  0.0000,\n",
      "          0.0000,  0.0000]])\n"
     ]
    }
   ],
   "source": [
    "import torch\n",
    "import torch.nn as nn\n",
    "\n",
    "# 创建一个 Linear 层\n",
    "linear = nn.Linear(in_features=10, out_features=5)\n",
    "\n",
    "# 初始化输入\n",
    "x = torch.randn(1, 10)\n",
    "\n",
    "# 前向计算\n",
    "output = linear(x)\n",
    "\n",
    "# 钩子函数：仅保留第 i 个神经元的梯度\n",
    "i = 2\n",
    "def hook_fn(grad):\n",
    "    mask = torch.zeros_like(grad)\n",
    "    mask[i, :] = 1  # 仅保留第 i 行的梯度\n",
    "    return grad * mask\n",
    "\n",
    "linear.weight.register_hook(hook_fn)\n",
    "\n",
    "# 损失函数\n",
    "loss = output.sum()\n",
    "\n",
    "# 反向传播\n",
    "loss.backward()\n",
    "\n",
    "# 查看梯度\n",
    "print(linear.weight.grad)\n"
   ]
  }
 ],
 "metadata": {
  "kernelspec": {
   "display_name": "Python 3",
   "language": "python",
   "name": "python3"
  },
  "language_info": {
   "codemirror_mode": {
    "name": "ipython",
    "version": 3
   },
   "file_extension": ".py",
   "mimetype": "text/x-python",
   "name": "python",
   "nbconvert_exporter": "python",
   "pygments_lexer": "ipython3",
   "version": "3.12.3"
  }
 },
 "nbformat": 4,
 "nbformat_minor": 2
}
