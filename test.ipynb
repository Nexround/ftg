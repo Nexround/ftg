{
 "cells": [
  {
   "cell_type": "code",
   "execution_count": 5,
   "metadata": {},
   "outputs": [
    {
     "name": "stdout",
     "output_type": "stream",
     "text": [
      "Activations saved to ./activations/activations.json\n"
     ]
    }
   ],
   "source": [
    "import torch\n",
    "from transformers import BertModel, BertTokenizer\n",
    "import json\n",
    "import os\n",
    "\n",
    "# 1. 加载 BERT 模型和 tokenizer\n",
    "model_name = \"bert-base-uncased\"\n",
    "tokenizer = BertTokenizer.from_pretrained(model_name)\n",
    "model = BertModel.from_pretrained(model_name)\n",
    "\n",
    "# 2. 定义一个字典来存储激活值\n",
    "activations = {}\n",
    "\n",
    "# 3. 定义钩子函数来捕获特定位置的激活值\n",
    "def hook_fn(layer_name, target_token_idx):\n",
    "    def hook(module, input, output):\n",
    "        # 获取特定token位置的激活值\n",
    "        # output的形状为 (batch_size, seq_len, hidden_size)\n",
    "        # 我们选定目标token的位置target_token_idx\n",
    "        target_activation = output.detach().cpu().numpy()[:, target_token_idx, :]\n",
    "        activations[layer_name] = target_activation.tolist()\n",
    "    return hook\n",
    "\n",
    "# 4. 注册钩子：遍历所有 Transformer 层并注册钩子\n",
    "hooks = []\n",
    "input_text = \"Hello, how are you?\"\n",
    "\n",
    "# 5. 将输入文本转换为token，并获取目标token的位置（如[CLS]或某个token）\n",
    "inputs = tokenizer(input_text, return_tensors=\"pt\")\n",
    "tokens = tokenizer.tokenize(input_text)\n",
    "\n",
    "# 假设我们想要获取第一个token（[CLS]）的位置\n",
    "target_token_idx = 0  # [CLS]通常是第一个token\n",
    "\n",
    "# 6. 注册钩子到每一层的 intermediate.dense（FFN部分）\n",
    "for i, layer in enumerate(model.encoder.layer):\n",
    "    hook = layer.intermediate.dense.register_forward_hook(hook_fn(f\"layer_{i}_ffn\", target_token_idx))\n",
    "    hooks.append(hook)\n",
    "\n",
    "# 7. 执行前向传播\n",
    "outputs = model(**inputs)\n",
    "\n",
    "# 8. 保存激活值到硬盘（保存为 JSON 格式）\n",
    "save_dir = \"./activations\"\n",
    "os.makedirs(save_dir, exist_ok=True)\n",
    "\n",
    "# 保存路径\n",
    "activation_file_path = os.path.join(save_dir, \"activations.json\")\n",
    "\n",
    "# 将激活值字典保存为 JSON 文件\n",
    "with open(activation_file_path, 'w') as json_file:\n",
    "    json.dump(activations, json_file)\n",
    "\n",
    "print(f\"Activations saved to {activation_file_path}\")\n",
    "\n",
    "# 9. 移除钩子\n",
    "for hook in hooks:\n",
    "    hook.remove()\n"
   ]
  },
  {
   "cell_type": "code",
   "execution_count": null,
   "metadata": {},
   "outputs": [
    {
     "name": "stderr",
     "output_type": "stream",
     "text": [
      "/home/vscode/.local/lib/python3.12/site-packages/tqdm/auto.py:21: TqdmWarning: IProgress not found. Please update jupyter and ipywidgets. See https://ipywidgets.readthedocs.io/en/stable/user_install.html\n",
      "  from .autonotebook import tqdm as notebook_tqdm\n",
      "Downloading data: 100%|██████████| 58/58 [00:00<00:00, 85.60files/s]\n",
      "Generating train split: 2566829 examples [01:39, 16833.30 examples/s]"
     ]
    }
   ],
   "source": [
    "from datasets import load_dataset\n",
    "\n",
    "ds = load_dataset(\"free-law/Caselaw_Access_Project\")"
   ]
  }
 ],
 "metadata": {
  "kernelspec": {
   "display_name": "Python 3",
   "language": "python",
   "name": "python3"
  },
  "language_info": {
   "codemirror_mode": {
    "name": "ipython",
    "version": 3
   },
   "file_extension": ".py",
   "mimetype": "text/x-python",
   "name": "python",
   "nbconvert_exporter": "python",
   "pygments_lexer": "ipython3",
   "version": "3.12.2"
  }
 },
 "nbformat": 4,
 "nbformat_minor": 2
}
